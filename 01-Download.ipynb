{
 "cells": [
  {
   "cell_type": "markdown",
   "id": "ffbf9380-77ea-4683-8c22-4499c8b546af",
   "metadata": {},
   "source": [
    "## Download XView Dataset\n",
    "Register on https://challenge.xviewdataset.org/ and get the download URLs for `train_images.tgz`, `train_labels.tgz` and `val_images.tgz`. Create a directory called `/data/xview/` and download the files in it."
   ]
  },
  {
   "cell_type": "code",
   "execution_count": 2,
   "id": "d254c019-f149-4956-91dd-e12522bffff5",
   "metadata": {},
   "outputs": [],
   "source": [
    "!mkdir /data/xview/"
   ]
  },
  {
   "cell_type": "code",
   "execution_count": 7,
   "id": "8e270a1b-6e1e-49d1-b834-891bfedab944",
   "metadata": {},
   "outputs": [
    {
     "name": "stdout",
     "output_type": "stream",
     "text": [
      "The name is too long, 423 chars total.\n",
      "Trying to shorten...\n",
      "New name is train_images.tgz?Expires=1621010436&Signature=b32WBd2S-CgKQ7O6GknLwpdKsHXPSb3SZfxXXpOJflEzo9NGZhqVomW~7ALIwFwQ45WQeUy-ks~rDcXAufNXLNiQPVh6mKsKnD9q0Geg87ZH5527ImFy~i4ZAhVNem4XlsudDJzw7s4HsRCg9QtC-H~CdA9GGnYPyGhaZqwS3vP5fNlHn5VqViN7M3uEeF.\n",
      "--2021-05-14 12:42:47--  https://d307kc0mrhucc3.cloudfront.net/train_images.tgz?Expires=1621010436&Signature=b32WBd2S-CgKQ7O6GknLwpdKsHXPSb3SZfxXXpOJflEzo9NGZhqVomW~7ALIwFwQ45WQeUy-ks~rDcXAufNXLNiQPVh6mKsKnD9q0Geg87ZH5527ImFy~i4ZAhVNem4XlsudDJzw7s4HsRCg9QtC-H~CdA9GGnYPyGhaZqwS3vP5fNlHn5VqViN7M3uEeF8L9q7ytErlGbcJ5vKs6xALJb08PvG0tF5VX83ZxDgEh0pWNIvyq0tKviBcVNDlGz1VWzFLmjkoWhIUzDj95qEcUsB9izB3vQ1zbAC7NJwzA6F1phdoiuA1Ry2NDN0qQ8i~~95QJNnrO6H79QeUTJ~BUw__&Key-Pair-Id=APKAIKGDJB5C3XUL2DXQ\n",
      "Resolving d307kc0mrhucc3.cloudfront.net (d307kc0mrhucc3.cloudfront.net)... 143.204.194.68, 143.204.194.81, 143.204.194.20, ...\n",
      "Connecting to d307kc0mrhucc3.cloudfront.net (d307kc0mrhucc3.cloudfront.net)|143.204.194.68|:443... connected.\n",
      "HTTP request sent, awaiting response... 200 OK\n",
      "Length: 15413902447 (14G) [application/gzip]\n",
      "Saving to: ‘train_images.tgz?Expires=1621010436&Signature=b32WBd2S-CgKQ7O6GknLwpdKsHXPSb3SZfxXXpOJflEzo9NGZhqVomW~7ALIwFwQ45WQeUy-ks~rDcXAufNXLNiQPVh6mKsKnD9q0Geg87ZH5527ImFy~i4ZAhVNem4XlsudDJzw7s4HsRCg9QtC-H~CdA9GGnYPyGhaZqwS3vP5fNlHn5VqViN7M3uEeF’\n",
      "\n",
      "train_images.tgz?Ex 100%[===================>]  14.35G  37.3MB/s    in 6m 40s  \n",
      "\n",
      "2021-05-14 12:49:29 (36.7 MB/s) - ‘train_images.tgz?Expires=1621010436&Signature=b32WBd2S-CgKQ7O6GknLwpdKsHXPSb3SZfxXXpOJflEzo9NGZhqVomW~7ALIwFwQ45WQeUy-ks~rDcXAufNXLNiQPVh6mKsKnD9q0Geg87ZH5527ImFy~i4ZAhVNem4XlsudDJzw7s4HsRCg9QtC-H~CdA9GGnYPyGhaZqwS3vP5fNlHn5VqViN7M3uEeF’ saved [15413902447/15413902447]\n",
      "\n"
     ]
    }
   ],
   "source": [
    "!cd /data/xview && wget -O train_images.tgz \"https://d307kc0mrhucc3.cloudfront.net/train_images.tgz?Expires=1621010436&Signature=b32WBd2S-CgKQ7O6GknLwpdKsHXPSb3SZfxXXpOJflEzo9NGZhqVomW~7ALIwFwQ45WQeUy-ks~rDcXAufNXLNiQPVh6mKsKnD9q0Geg87ZH5527ImFy~i4ZAhVNem4XlsudDJzw7s4HsRCg9QtC-H~CdA9GGnYPyGhaZqwS3vP5fNlHn5VqViN7M3uEeF8L9q7ytErlGbcJ5vKs6xALJb08PvG0tF5VX83ZxDgEh0pWNIvyq0tKviBcVNDlGz1VWzFLmjkoWhIUzDj95qEcUsB9izB3vQ1zbAC7NJwzA6F1phdoiuA1Ry2NDN0qQ8i~~95QJNnrO6H79QeUTJ~BUw__&Key-Pair-Id=APKAIKGDJB5C3XUL2DXQ\"\n",
    "    "
   ]
  },
  {
   "cell_type": "code",
   "execution_count": 10,
   "id": "470fa9d4-e321-4774-84cd-bf87d5712973",
   "metadata": {},
   "outputs": [
    {
     "name": "stdout",
     "output_type": "stream",
     "text": [
      "--2021-05-14 12:51:36--  https://d307kc0mrhucc3.cloudfront.net/train_labels.tgz?Expires=1621010436&Signature=Ay49xn8LFWeB0ocD9CoSoIsHUMAejOTmaNri~OiYSaF3C1tkpKPmPL3T4a4QMBt~oNwPpzkLCJyr6szyHjI2lOyEAiBW59qjd5d7uyOnIQqWrxkh8ChlBloP5jmR2rBqoMwPdis3x-f-iTLy0UbxjLIfBL4-2jjdF~ioyR5nLO24ULLZdckDtliS1pTCbcAP4ITm3aa~d3dDeKMoZgyMzk6rI1Wa7Glv5OsbbT2Z-qdPjDN3xWXXGbTS6gD-pBPWscEtiOCzo8KWSJ4PkFDRVjlccmMxWu3EDUMADsaJzaXGotgx4j9du1-TW~uuddvj8PXJQHsT6Nzg2sVun76AhA__&Key-Pair-Id=APKAIKGDJB5C3XUL2DXQ\n",
      "Resolving d307kc0mrhucc3.cloudfront.net (d307kc0mrhucc3.cloudfront.net)... 143.204.194.68, 143.204.194.8, 143.204.194.81, ...\n",
      "Connecting to d307kc0mrhucc3.cloudfront.net (d307kc0mrhucc3.cloudfront.net)|143.204.194.68|:443... connected.\n",
      "HTTP request sent, awaiting response... 200 OK\n",
      "Length: 48950328 (47M) [application/gzip]\n",
      "Saving to: ‘train_labels.tgz’\n",
      "\n",
      "train_labels.tgz    100%[===================>]  46.68M  28.1MB/s    in 1.7s    \n",
      "\n",
      "2021-05-14 12:51:38 (28.1 MB/s) - ‘train_labels.tgz’ saved [48950328/48950328]\n",
      "\n"
     ]
    }
   ],
   "source": [
    "!cd /data/xview && wget -O train_labels.tgz \"https://d307kc0mrhucc3.cloudfront.net/train_labels.tgz?Expires=1621010436&Signature=Ay49xn8LFWeB0ocD9CoSoIsHUMAejOTmaNri~OiYSaF3C1tkpKPmPL3T4a4QMBt~oNwPpzkLCJyr6szyHjI2lOyEAiBW59qjd5d7uyOnIQqWrxkh8ChlBloP5jmR2rBqoMwPdis3x-f-iTLy0UbxjLIfBL4-2jjdF~ioyR5nLO24ULLZdckDtliS1pTCbcAP4ITm3aa~d3dDeKMoZgyMzk6rI1Wa7Glv5OsbbT2Z-qdPjDN3xWXXGbTS6gD-pBPWscEtiOCzo8KWSJ4PkFDRVjlccmMxWu3EDUMADsaJzaXGotgx4j9du1-TW~uuddvj8PXJQHsT6Nzg2sVun76AhA__&Key-Pair-Id=APKAIKGDJB5C3XUL2DXQ\"\n"
   ]
  },
  {
   "cell_type": "code",
   "execution_count": 11,
   "id": "d86ae346-6187-47c8-bb90-1d061d8a77df",
   "metadata": {},
   "outputs": [
    {
     "name": "stdout",
     "output_type": "stream",
     "text": [
      "--2021-05-14 12:51:42--  https://d307kc0mrhucc3.cloudfront.net/val_images.tgz?Expires=1621010436&Signature=gFFbIRa8XV3aTBffvsnMI7I318CvPXYJzAEw4hUh--ETWzmCIrwdQXWm55KIFWaOpotqfqGIo-~nITJfGJC1UQG8hSu2of6GrAY7QeWVKdF4SKTaiBU8MxlETecfGqnZSUdBwiuFQWdZC8iN0P7rscaYJWaJOGD46iXe2h4Yo4SgM1ML5xqmJg1bR-sgRtoU4FyALh1m7MmhW5VuP6mPbHk1z2R0MuyBphX8XkTJ4BJOiP1EdLiLgWSMsRwECZtAKWyNebxVBSgdE~OVOQUGayXDxLhwEEkvyVsnaEd4fojShR1cxGKVYYJGhihDUcpfL4brom13Z6SJOSn4MpMQQg__&Key-Pair-Id=APKAIKGDJB5C3XUL2DXQ\n",
      "Resolving d307kc0mrhucc3.cloudfront.net (d307kc0mrhucc3.cloudfront.net)... 143.204.194.68, 143.204.194.8, 143.204.194.20, ...\n",
      "Connecting to d307kc0mrhucc3.cloudfront.net (d307kc0mrhucc3.cloudfront.net)|143.204.194.68|:443... connected.\n",
      "HTTP request sent, awaiting response... 200 OK\n",
      "Length: 5258921432 (4.9G) [application/gzip]\n",
      "Saving to: ‘val_images.tgz’\n",
      "\n",
      "val_images.tgz      100%[===================>]   4.90G  38.5MB/s    in 2m 15s  \n",
      "\n",
      "2021-05-14 12:53:57 (37.1 MB/s) - ‘val_images.tgz’ saved [5258921432/5258921432]\n",
      "\n"
     ]
    }
   ],
   "source": [
    "!cd /data/xview && wget -O val_images.tgz \"https://d307kc0mrhucc3.cloudfront.net/val_images.tgz?Expires=1621010436&Signature=gFFbIRa8XV3aTBffvsnMI7I318CvPXYJzAEw4hUh--ETWzmCIrwdQXWm55KIFWaOpotqfqGIo-~nITJfGJC1UQG8hSu2of6GrAY7QeWVKdF4SKTaiBU8MxlETecfGqnZSUdBwiuFQWdZC8iN0P7rscaYJWaJOGD46iXe2h4Yo4SgM1ML5xqmJg1bR-sgRtoU4FyALh1m7MmhW5VuP6mPbHk1z2R0MuyBphX8XkTJ4BJOiP1EdLiLgWSMsRwECZtAKWyNebxVBSgdE~OVOQUGayXDxLhwEEkvyVsnaEd4fojShR1cxGKVYYJGhihDUcpfL4brom13Z6SJOSn4MpMQQg__&Key-Pair-Id=APKAIKGDJB5C3XUL2DXQ\"\n",
    "\n"
   ]
  },
  {
   "cell_type": "code",
   "execution_count": 14,
   "id": "f5fb72b5-a1cc-4e8e-b481-c0284f80b542",
   "metadata": {},
   "outputs": [
    {
     "name": "stdout",
     "output_type": "stream",
     "text": [
      "train_images.tgz  train_labels.tgz  val_images.tgz\n"
     ]
    }
   ],
   "source": [
    "!ls /data/xview/"
   ]
  },
  {
   "cell_type": "code",
   "execution_count": 15,
   "id": "68fe14a9-2d74-42ad-992e-a182fc30539f",
   "metadata": {},
   "outputs": [],
   "source": [
    "!cd /data/xview/ && tar -xzf train_images.tgz && ls "
   ]
  },
  {
   "cell_type": "code",
   "execution_count": 17,
   "id": "8f6ee026-a2af-4bea-ac07-a30f0e6d9833",
   "metadata": {},
   "outputs": [
    {
     "name": "stdout",
     "output_type": "stream",
     "text": [
      "train_images\t  train_labels.tgz  val_images.tgz\n",
      "train_images.tgz  val_images\t    xView_train.geojson\n"
     ]
    }
   ],
   "source": [
    "!cd /data/xview/ && tar -xzf val_images.tgz && ls "
   ]
  },
  {
   "cell_type": "code",
   "execution_count": 16,
   "id": "333edc66-aa8e-4f86-b226-0486267f7c97",
   "metadata": {},
   "outputs": [
    {
     "name": "stdout",
     "output_type": "stream",
     "text": [
      "train_images\t  train_labels.tgz  xView_train.geojson\n",
      "train_images.tgz  val_images.tgz\n"
     ]
    }
   ],
   "source": [
    "!cd /data/xview/ && tar -xzf train_labels.tgz && ls "
   ]
  },
  {
   "cell_type": "markdown",
   "id": "d785b5c9-a996-4e5c-a52d-de404554e390",
   "metadata": {},
   "source": [
    "## Check GPU"
   ]
  },
  {
   "cell_type": "code",
   "execution_count": 1,
   "id": "8c11410a-92cc-4624-9620-2300e2948267",
   "metadata": {},
   "outputs": [
    {
     "name": "stdout",
     "output_type": "stream",
     "text": [
      "/bin/sh: 1: nvidia-smi: not found\n"
     ]
    }
   ],
   "source": [
    "!nvidia-smi"
   ]
  }
 ],
 "metadata": {
  "kernelspec": {
   "display_name": "Python 3",
   "language": "python",
   "name": "python3"
  },
  "language_info": {
   "codemirror_mode": {
    "name": "ipython",
    "version": 3
   },
   "file_extension": ".py",
   "mimetype": "text/x-python",
   "name": "python",
   "nbconvert_exporter": "python",
   "pygments_lexer": "ipython3",
   "version": "3.6.9"
  }
 },
 "nbformat": 4,
 "nbformat_minor": 5
}
